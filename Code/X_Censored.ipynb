{
 "cells": [
  {
   "cell_type": "markdown",
   "metadata": {},
   "source": [
    "## GGD Case intensity prediction - Part 3 (Censored sets)"
   ]
  },
  {
   "cell_type": "markdown",
   "metadata": {},
   "source": [
    "### 1. Import modules"
   ]
  },
  {
   "cell_type": "code",
   "execution_count": 1,
   "metadata": {},
   "outputs": [],
   "source": [
    "# Global\n",
    "import warnings\n",
    "warnings.filterwarnings('ignore')\n",
    "\n",
    "# Preprocessing\n",
    "from data_preprocessors.balancer import *\n",
    "from data_preprocessors.data_preparation import *\n",
    "from data_preprocessors.data_splitting import *\n",
    "from data_preprocessors.data_transformation import *\n",
    "from data_preprocessors.feature_addition import *\n",
    "from data_preprocessors.target_creation import *\n",
    "\n",
    "import pandas as pd\n",
    "import pyodbc\n",
    "import matplotlib.pyplot as plt\n",
    "from sklearn.pipeline import Pipeline\n",
    "from sklearn import set_config\n",
    "set_config(display='diagram')\n",
    "\n",
    "# Model selection\n",
    "import shap\n",
    "import joblib\n",
    "from sklearn.metrics import median_absolute_error, mean_absolute_percentage_error, mean_squared_error, mean_squared_log_error, r2_score\n",
    "from tabulate import tabulate"
   ]
  },
  {
   "cell_type": "markdown",
   "metadata": {},
   "source": [
    "### 2. Import data"
   ]
  },
  {
   "cell_type": "code",
   "execution_count": 2,
   "metadata": {},
   "outputs": [],
   "source": [
    "# 02-05-2024 censored sets\n",
    "X_test_censored_featurized = pd.read_pickle('..\\\\..\\\\Data\\\\Splits\\\\20240502_X_test_censored_featurized.pkl')\n",
    "X_oos_censored_featurized = pd.read_pickle('..\\\\..\\\\Data\\\\Splits\\\\20240502_X_oos_censored_featurized.pkl')"
   ]
  },
  {
   "cell_type": "code",
   "execution_count": 3,
   "metadata": {},
   "outputs": [],
   "source": [
    "# Replace server name if source changes\n",
    "server = 'AZ-ODB0\\ODBWB'\n",
    "database = 'OnderzoeksDB_WB'\n",
    "\n",
    "# Create a connection string\n",
    "connection_string = f'DRIVER={{SQL Server}};SERVER={server};DATABASE={database}'\n",
    "\n",
    "# Establish connection\n",
    "connection = pyodbc.connect(connection_string)\n",
    "\n",
    "# Create SQL query string\n",
    "query = 'SELECT * FROM Regas_Problematiek'\n",
    "\n",
    "# Execute the query and fetch the data into a Pandas DataFrame\n",
    "df_censored_og = pd.read_sql(query, connection)\n",
    "\n",
    "# Close the connection\n",
    "connection.close()"
   ]
  },
  {
   "cell_type": "code",
   "execution_count": 4,
   "metadata": {},
   "outputs": [],
   "source": [
    "# Group by 'Casus' and 'Persoonsnummer' and get the last non-null value from each column\n",
    "df_censored_og = df_censored_og.groupby(['Casus', 'Persoonsnummer'], as_index=False).last()\n",
    "\n",
    "# Save column 'casus' as index\n",
    "df_censored_og.set_index('Casus', inplace=True)"
   ]
  },
  {
   "cell_type": "code",
   "execution_count": 5,
   "metadata": {},
   "outputs": [],
   "source": [
    "# Get the indices from X_censored_featurized that exist in df_censored_og\n",
    "common_indices_test = df_censored_og.index.intersection(X_test_censored_featurized.index)\n",
    "common_indices_oos = df_censored_og.index.intersection(X_oos_censored_featurized.index)\n",
    "\n",
    "# Store all rows of df_censored_og where 'Casus' is the same as the common indices\n",
    "df_test_censored = df_censored_og.loc[common_indices_test]\n",
    "df_oos_censored = df_censored_og.loc[common_indices_oos]"
   ]
  },
  {
   "cell_type": "markdown",
   "metadata": {},
   "source": [
    "### 3. Select desired rows, columns and corresponding Dtypes"
   ]
  },
  {
   "cell_type": "code",
   "execution_count": 6,
   "metadata": {},
   "outputs": [],
   "source": [
    "# Select columns from df_og to work with\n",
    "df_test_censored = column_selector(df_test_censored)\n",
    "df_oos_censored = column_selector(df_oos_censored)\n",
    "\n",
    "# Map boolean-like values to True's and False's\n",
    "df_test_censored = boolean_mapper(df_test_censored)\n",
    "df_oos_censored = boolean_mapper(df_oos_censored)\n",
    "\n",
    "# Cast columns to appropriate data types\n",
    "df_test_censored = dtype_caster(df_test_censored)\n",
    "df_oos_censored = dtype_caster(df_oos_censored)"
   ]
  },
  {
   "cell_type": "markdown",
   "metadata": {},
   "source": [
    "### 4. Preprocessing"
   ]
  },
  {
   "cell_type": "code",
   "execution_count": 7,
   "metadata": {},
   "outputs": [],
   "source": [
    "# Convert dates from original df\n",
    "df_test_censored['Datum'] = df_test_censored['Datum'].apply(dates_converter)\n",
    "df_oos_censored['Datum'] = df_oos_censored['Datum'].apply(dates_converter)\n",
    "\n",
    "# Drop all rows with condition 'Onverzekerde zorg GGD GHOR NL'\n",
    "df_test_censored.drop(df_test_censored[df_test_censored['Vermoeden_van_problematiek'] == 'Onverzekerde zorg GGD GHOR NL'].index, inplace=True)\n",
    "df_oos_censored.drop(df_oos_censored[df_oos_censored['Vermoeden_van_problematiek'] == 'Onverzekerde zorg GGD GHOR NL'].index, inplace=True)\n",
    "\n",
    "# Dropping rows where 'Datum_melding' column is empty (there are none so far)\n",
    "df_test_censored.dropna(subset=['Datum_melding'], inplace=True)\n",
    "df_oos_censored.dropna(subset=['Datum_melding'], inplace=True)\n",
    "\n",
    "# Overwrite the column with the transformed version\n",
    "df_test_censored['Gemeente'] = df_test_censored['Gemeente'].apply(municipality_mapper).astype('category')\n",
    "df_oos_censored['Gemeente'] = df_oos_censored['Gemeente'].apply(municipality_mapper).astype('category')\n",
    "\n",
    "# Drop rows where 'Gemeente' is 'outside_WB'\n",
    "df_test_censored.drop(df_test_censored[df_test_censored['Gemeente'] == 'outside_WB'].index, inplace=True)\n",
    "df_oos_censored.drop(df_oos_censored[df_oos_censored['Gemeente'] == 'outside_WB'].index, inplace=True)"
   ]
  },
  {
   "cell_type": "markdown",
   "metadata": {},
   "source": [
    "### 5. Construct target features"
   ]
  },
  {
   "cell_type": "code",
   "execution_count": 8,
   "metadata": {},
   "outputs": [],
   "source": [
    "# Add a column indicating a 0 if the 'Datum_afsluiting' column is empty and a 1 if it is not\n",
    "df_test_censored['Closed'] = df_test_censored['Datum_afsluiting'].apply(lambda x: 0 if pd.isnull(x) else 1)\n",
    "df_oos_censored['Closed'] = df_oos_censored['Datum_afsluiting'].apply(lambda x: 0 if pd.isnull(x) else 1)\n",
    "\n",
    "# Add the calculated days to a new column\n",
    "df_test_censored['Dagen_tot_laatst'] = df_test_censored.apply(lambda x: days_extractor(x.Datum_melding, x.Datum), axis=1)\n",
    "df_oos_censored['Dagen_tot_laatst'] = df_oos_censored.apply(lambda x: days_extractor(x.Datum_melding, x.Datum), axis=1)\n",
    "\n",
    "# Add the calculated amount of interventions to a new column\n",
    "df_test_censored['No_interventions'] = df_test_censored['Datum'].apply(interventions_extractor)\n",
    "df_oos_censored['No_interventions'] = df_oos_censored['Datum'].apply(interventions_extractor)"
   ]
  },
  {
   "cell_type": "code",
   "execution_count": 9,
   "metadata": {},
   "outputs": [],
   "source": [
    "# Create y_test_censored and y_oos_censored that store only 'Dagen_tot_laatst' and 'No_interventions' from their corresponding df'2_Selection.ipynb\n",
    "y_test_censored = df_test_censored[['Closed', 'Dagen_tot_laatst', 'No_interventions']]\n",
    "y_oos_censored = df_oos_censored[['Closed', 'Dagen_tot_laatst', 'No_interventions']]\n",
    "\n",
    "# Log transform Days and Interventions, keep 'Closed' as is\n",
    "y_test_censored_log = y_test_censored['Closed']\n",
    "y_test_censored_log = pd.concat([y_test_censored_log, y_test_censored[['Dagen_tot_laatst', 'No_interventions']].applymap(lambda x: np.log1p(x))], axis=1)\n",
    "y_oos_censored_log = y_oos_censored['Closed']\n",
    "y_oos_censored_log = pd.concat([y_oos_censored_log, y_oos_censored[['Dagen_tot_laatst', 'No_interventions']].applymap(lambda x: np.log1p(x))], axis=1)"
   ]
  },
  {
   "cell_type": "markdown",
   "metadata": {},
   "source": [
    "### 6. Save splits"
   ]
  },
  {
   "cell_type": "code",
   "execution_count": 10,
   "metadata": {},
   "outputs": [],
   "source": [
    "# Define list of names equal to variable names\n",
    "split_names = ['y_test_censored', 'y_oos_censored', 'y_test_censored_log', 'y_oos_censored_log']\n",
    "splits = [y_test_censored, y_oos_censored, y_test_censored_log, y_oos_censored_log]\n",
    "\n",
    "# Save all test and oos sets as separate .pkl files\n",
    "for split in range(len(splits)):\n",
    "    splits[split].to_pickle(f'..\\\\..\\\\Data\\\\Splits\\\\20240516_{split_names[split]}.pkl') #RUN THIS ON 16-05-2024\n"
   ]
  }
 ],
 "metadata": {
  "kernelspec": {
   "display_name": "Python 3",
   "language": "python",
   "name": "python3"
  },
  "language_info": {
   "codemirror_mode": {
    "name": "ipython",
    "version": 3
   },
   "file_extension": ".py",
   "mimetype": "text/x-python",
   "name": "python",
   "nbconvert_exporter": "python",
   "pygments_lexer": "ipython3",
   "version": "3.12.1"
  }
 },
 "nbformat": 4,
 "nbformat_minor": 2
}
